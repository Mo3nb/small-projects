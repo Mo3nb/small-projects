{
  "cells": [
    {
      "cell_type": "code",
      "execution_count": null,
      "metadata": {
        "id": "bqKMvQ0Wgsef"
      },
      "outputs": [],
      "source": [
        "# from bs4 import BeautifulSoup\n",
        "import requests\n",
        "import pandas as pd\n",
        "import time\n",
        "\n",
        "from selenium import webdriver"
      ]
    },
    {
      "cell_type": "code",
      "execution_count": null,
      "metadata": {
        "id": "RpMbLqPCgsej"
      },
      "outputs": [],
      "source": [
        "driver = webdriver.Chrome(r\"C:\\Users\\hp\\chromedriver.exe\")"
      ]
    },
    {
      "cell_type": "markdown",
      "metadata": {
        "id": "pnqbRG_dgsek"
      },
      "source": [
        "## Part 1: Get links"
      ]
    },
    {
      "cell_type": "code",
      "execution_count": null,
      "metadata": {
        "id": "ULTlyG8Cgseo"
      },
      "outputs": [],
      "source": [
        "# First page of NY volunteer match\n",
        "link='https://www.volunteermatch.org/search/?l=New+York%2C+NY%2C+USA'\n",
        "driver.get(link)"
      ]
    },
    {
      "cell_type": "code",
      "execution_count": null,
      "metadata": {
        "id": "sM_XXOZYgsep"
      },
      "outputs": [],
      "source": [
        "def get_url(url):\n",
        "    url_list=[]\n",
        "    driver.get(url)\n",
        "    time.sleep(3)\n",
        "    x = driver.find_elements_by_xpath('//*[contains(@id, \"opp-\")]') \n",
        "    for a in x:\n",
        "        url_list.append(a.get_attribute('href'))\n",
        "    return url_list"
      ]
    },
    {
      "cell_type": "markdown",
      "metadata": {
        "id": "jknm7NVYgseq"
      },
      "source": [
        "Step 1:"
      ]
    },
    {
      "cell_type": "code",
      "execution_count": null,
      "metadata": {
        "id": "Mxr9vd8ogses"
      },
      "outputs": [],
      "source": [
        "# Scrap all website links from shown volunteer jobs on the current page\n",
        "full_url_list = get_url(link)"
      ]
    },
    {
      "cell_type": "code",
      "execution_count": null,
      "metadata": {
        "id": "5IpQVbx9gset",
        "outputId": "5faab8d4-0fdf-4eab-9254-aa256a88a7d5"
      },
      "outputs": [
        {
          "data": {
            "text/plain": [
              "25"
            ]
          },
          "execution_count": 7,
          "metadata": {},
          "output_type": "execute_result"
        }
      ],
      "source": [
        "len(full_url_list)"
      ]
    },
    {
      "cell_type": "markdown",
      "metadata": {
        "id": "dChFwtJUgsev"
      },
      "source": [
        "Step 2:"
      ]
    },
    {
      "cell_type": "markdown",
      "metadata": {
        "id": "FK-zlHscgsex"
      },
      "source": [
        "Scrapping all website links from NOT shown (some jobs have \"# Active Opportunities\") volunteer jobs on the current page"
      ]
    },
    {
      "cell_type": "code",
      "execution_count": null,
      "metadata": {
        "scrolled": true,
        "id": "fkXW_pmPgsey",
        "outputId": "5d41b55b-7190-4088-faae-16690588cca5"
      },
      "outputs": [
        {
          "name": "stdout",
          "output_type": "stream",
          "text": [
            "6156\n",
            "sub page:1\n",
            "length:6160\n",
            "6160\n",
            "sub page:1\n",
            "length:6163\n",
            "6163\n",
            "sub page:1\n",
            "length:6166\n",
            "6166\n",
            "sub page:1\n",
            "length:6172\n",
            "6172\n",
            "sub page:1\n",
            "length:6197\n",
            "sub page:2\n",
            "length:6222\n",
            "sub page:3\n",
            "length:6247\n",
            "sub page:4\n",
            "length:6272\n",
            "sub page:5\n",
            "length:6297\n",
            "sub page:6\n",
            "length:6322\n",
            "sub page:7\n",
            "length:6347\n",
            "sub page:8\n",
            "length:6372\n",
            "sub page:9\n",
            "length:6397\n",
            "sub page:10\n",
            "length:6422\n",
            "sub page:11\n",
            "length:6447\n",
            "sub page:12\n",
            "length:6472\n",
            "sub page:13\n",
            "length:6497\n",
            "sub page:14\n",
            "length:6522\n",
            "sub page:15\n",
            "length:6547\n",
            "sub page:16\n",
            "length:6572\n",
            "sub page:17\n",
            "length:6597\n",
            "sub page:18\n",
            "length:6622\n",
            "sub page:19\n",
            "length:6647\n",
            "sub page:20\n",
            "length:6672\n",
            "sub page:21\n",
            "length:6697\n",
            "sub page:22\n",
            "length:6722\n",
            "sub page:23\n",
            "length:6747\n",
            "sub page:24\n",
            "length:6772\n",
            "sub page:25\n",
            "length:6797\n",
            "sub page:26\n",
            "length:6822\n",
            "sub page:27\n",
            "length:6847\n",
            "sub page:28\n",
            "length:6872\n",
            "sub page:29\n",
            "length:6897\n",
            "sub page:30\n",
            "length:6922\n",
            "sub page:31\n",
            "length:6947\n",
            "sub page:32\n",
            "length:6972\n",
            "sub page:33\n",
            "length:6997\n",
            "sub page:34\n",
            "length:7022\n",
            "sub page:35\n",
            "length:7047\n",
            "sub page:36\n",
            "length:7072\n",
            "sub page:37\n",
            "length:7097\n",
            "sub page:38\n",
            "length:7122\n",
            "sub page:39\n",
            "length:7147\n",
            "sub page:40\n",
            "length:7172\n",
            "sub page:41\n",
            "length:7197\n",
            "sub page:42\n",
            "length:7222\n",
            "sub page:43\n",
            "length:7247\n",
            "sub page:44\n",
            "length:7272\n",
            "sub page:45\n",
            "length:7297\n",
            "sub page:46\n",
            "length:7322\n",
            "sub page:47\n",
            "length:7347\n",
            "sub page:48\n",
            "length:7372\n",
            "sub page:49\n",
            "length:7397\n",
            "sub page:50\n",
            "length:7422\n",
            "sub page:51\n",
            "length:7447\n",
            "sub page:52\n",
            "length:7472\n",
            "sub page:53\n",
            "length:7497\n",
            "sub page:54\n",
            "length:7505\n",
            "7505\n",
            "sub page:1\n",
            "length:7514\n",
            "7514\n",
            "sub page:1\n",
            "length:7517\n",
            "7517\n",
            "sub page:1\n",
            "length:7519\n",
            "7519\n",
            "sub page:1\n",
            "length:7521\n",
            "7521\n",
            "sub page:1\n",
            "length:7546\n",
            "sub page:2\n",
            "length:7571\n",
            "sub page:3\n",
            "length:7596\n",
            "sub page:4\n",
            "length:7621\n",
            "sub page:5\n",
            "length:7646\n",
            "sub page:6\n",
            "length:7671\n",
            "sub page:7\n",
            "length:7696\n",
            "sub page:8\n",
            "length:7721\n",
            "sub page:9\n",
            "length:7746\n",
            "sub page:10\n",
            "length:7764\n",
            "7764\n",
            "sub page:1\n",
            "length:7775\n",
            "7775\n",
            "sub page:1\n",
            "length:7800\n",
            "sub page:2\n",
            "length:7823\n",
            "7823\n",
            "sub page:1\n",
            "length:7825\n"
          ]
        }
      ],
      "source": [
        "btn = driver.find_elements_by_xpath('//*[ contains(text(), \"Active Opportunities\")]')\n",
        "for i in range(len(btn)):\n",
        "#     print(len(full_url_list))\n",
        "    btn = driver.find_elements_by_xpath('//*[ contains(text(), \"Active Opportunities\")]')\n",
        "    time.sleep(3)\n",
        "    n = btn[i].find_element_by_css_selector('svg')\n",
        "    n.click()\n",
        "    time.sleep(3)\n",
        "    curr_url=driver.current_url\n",
        "    url_list = get_url(curr_url)\n",
        "    full_url_list.extend(url_list)\n",
        "#     sub_page=1\n",
        "#     print(\"sub page:{}\".format(sub_page))\n",
        "#     print(\"length:{}\".format(len(full_url_list)))\n",
        "    while True:\n",
        "        try:\n",
        "            driver.find_element_by_xpath('//*[ contains(text(), \"Next\")]').click()\n",
        "            time.sleep(3)\n",
        "#             sub_page +=1\n",
        "            curr_url=driver.current_url\n",
        "            url_list = get_url(curr_url)\n",
        "            full_url_list.extend(url_list)\n",
        "#             print(\"sub page:{}\".format(sub_page))\n",
        "#             print(\"length:{}\".format(len(full_url_list)))\n",
        "        except:\n",
        "            break    \n",
        "    driver.get(link)\n",
        "    time.sleep(3)"
      ]
    },
    {
      "cell_type": "code",
      "execution_count": null,
      "metadata": {
        "id": "7CJYhnV3gse2",
        "outputId": "2e77436e-ad61-47ac-95a2-50e614971fa1"
      },
      "outputs": [
        {
          "data": {
            "text/plain": [
              "7825"
            ]
          },
          "execution_count": 64,
          "metadata": {},
          "output_type": "execute_result"
        }
      ],
      "source": [
        "len(full_url_list)"
      ]
    },
    {
      "cell_type": "code",
      "execution_count": null,
      "metadata": {
        "id": "vYxw-O4Egse3",
        "outputId": "15a6c0b1-75a9-49b2-8809-933c2e39fe15"
      },
      "outputs": [
        {
          "data": {
            "text/plain": [
              "7812"
            ]
          },
          "execution_count": 65,
          "metadata": {},
          "output_type": "execute_result"
        }
      ],
      "source": [
        "full_url_list = list(set(full_url_list)) # remove repeat links\n",
        "len(full_url_list)"
      ]
    },
    {
      "cell_type": "code",
      "execution_count": null,
      "metadata": {
        "scrolled": true,
        "id": "JjuBS4pegse4",
        "outputId": "a81cc2a8-70b1-484f-d461-7b99b153f597"
      },
      "outputs": [
        {
          "data": {
            "text/html": [
              "<div>\n",
              "<style scoped>\n",
              "    .dataframe tbody tr th:only-of-type {\n",
              "        vertical-align: middle;\n",
              "    }\n",
              "\n",
              "    .dataframe tbody tr th {\n",
              "        vertical-align: top;\n",
              "    }\n",
              "\n",
              "    .dataframe thead th {\n",
              "        text-align: right;\n",
              "    }\n",
              "</style>\n",
              "<table border=\"1\" class=\"dataframe\">\n",
              "  <thead>\n",
              "    <tr style=\"text-align: right;\">\n",
              "      <th></th>\n",
              "      <th>Link</th>\n",
              "    </tr>\n",
              "  </thead>\n",
              "  <tbody>\n",
              "    <tr>\n",
              "      <th>0</th>\n",
              "      <td>https://www.volunteermatch.org/search/opp30930...</td>\n",
              "    </tr>\n",
              "    <tr>\n",
              "      <th>1</th>\n",
              "      <td>https://www.volunteermatch.org/search/opp32750...</td>\n",
              "    </tr>\n",
              "    <tr>\n",
              "      <th>2</th>\n",
              "      <td>https://www.volunteermatch.org/search/opp30872...</td>\n",
              "    </tr>\n",
              "    <tr>\n",
              "      <th>3</th>\n",
              "      <td>https://www.volunteermatch.org/search/opp22828...</td>\n",
              "    </tr>\n",
              "    <tr>\n",
              "      <th>4</th>\n",
              "      <td>https://www.volunteermatch.org/search/opp25712...</td>\n",
              "    </tr>\n",
              "    <tr>\n",
              "      <th>5</th>\n",
              "      <td>https://www.volunteermatch.org/search/opp80588...</td>\n",
              "    </tr>\n",
              "    <tr>\n",
              "      <th>6</th>\n",
              "      <td>https://www.volunteermatch.org/search/opp15646...</td>\n",
              "    </tr>\n",
              "    <tr>\n",
              "      <th>7</th>\n",
              "      <td>https://www.volunteermatch.org/search/opp32619...</td>\n",
              "    </tr>\n",
              "    <tr>\n",
              "      <th>8</th>\n",
              "      <td>https://www.volunteermatch.org/search/opp18994...</td>\n",
              "    </tr>\n",
              "    <tr>\n",
              "      <th>9</th>\n",
              "      <td>https://www.volunteermatch.org/search/opp28289...</td>\n",
              "    </tr>\n",
              "    <tr>\n",
              "      <th>10</th>\n",
              "      <td>https://www.volunteermatch.org/search/opp32606...</td>\n",
              "    </tr>\n",
              "    <tr>\n",
              "      <th>11</th>\n",
              "      <td>https://www.volunteermatch.org/search/opp32611...</td>\n",
              "    </tr>\n",
              "    <tr>\n",
              "      <th>12</th>\n",
              "      <td>https://www.volunteermatch.org/search/opp15728...</td>\n",
              "    </tr>\n",
              "    <tr>\n",
              "      <th>13</th>\n",
              "      <td>https://www.volunteermatch.org/search/opp32599...</td>\n",
              "    </tr>\n",
              "    <tr>\n",
              "      <th>14</th>\n",
              "      <td>https://www.volunteermatch.org/search/opp32978...</td>\n",
              "    </tr>\n",
              "    <tr>\n",
              "      <th>15</th>\n",
              "      <td>https://www.volunteermatch.org/search/opp25540...</td>\n",
              "    </tr>\n",
              "    <tr>\n",
              "      <th>16</th>\n",
              "      <td>https://www.volunteermatch.org/search/opp32613...</td>\n",
              "    </tr>\n",
              "    <tr>\n",
              "      <th>17</th>\n",
              "      <td>https://www.volunteermatch.org/search/opp32798...</td>\n",
              "    </tr>\n",
              "    <tr>\n",
              "      <th>18</th>\n",
              "      <td>https://www.volunteermatch.org/search/opp23460...</td>\n",
              "    </tr>\n",
              "    <tr>\n",
              "      <th>19</th>\n",
              "      <td>https://www.volunteermatch.org/search/opp32855...</td>\n",
              "    </tr>\n",
              "    <tr>\n",
              "      <th>20</th>\n",
              "      <td>https://www.volunteermatch.org/search/opp32639...</td>\n",
              "    </tr>\n",
              "    <tr>\n",
              "      <th>21</th>\n",
              "      <td>https://www.volunteermatch.org/search/opp33119...</td>\n",
              "    </tr>\n",
              "    <tr>\n",
              "      <th>22</th>\n",
              "      <td>https://www.volunteermatch.org/search/opp32614...</td>\n",
              "    </tr>\n",
              "    <tr>\n",
              "      <th>23</th>\n",
              "      <td>https://www.volunteermatch.org/search/opp23198...</td>\n",
              "    </tr>\n",
              "    <tr>\n",
              "      <th>24</th>\n",
              "      <td>https://www.volunteermatch.org/search/opp33293...</td>\n",
              "    </tr>\n",
              "    <tr>\n",
              "      <th>25</th>\n",
              "      <td>https://www.volunteermatch.org/search/opp32665...</td>\n",
              "    </tr>\n",
              "    <tr>\n",
              "      <th>26</th>\n",
              "      <td>https://www.volunteermatch.org/search/opp32798...</td>\n",
              "    </tr>\n",
              "    <tr>\n",
              "      <th>27</th>\n",
              "      <td>https://www.volunteermatch.org/search/opp32725...</td>\n",
              "    </tr>\n",
              "    <tr>\n",
              "      <th>28</th>\n",
              "      <td>https://www.volunteermatch.org/search/opp32607...</td>\n",
              "    </tr>\n",
              "    <tr>\n",
              "      <th>29</th>\n",
              "      <td>https://www.volunteermatch.org/search/opp23310...</td>\n",
              "    </tr>\n",
              "    <tr>\n",
              "      <th>...</th>\n",
              "      <td>...</td>\n",
              "    </tr>\n",
              "    <tr>\n",
              "      <th>7782</th>\n",
              "      <td>https://www.volunteermatch.org/search/opp33245...</td>\n",
              "    </tr>\n",
              "    <tr>\n",
              "      <th>7783</th>\n",
              "      <td>https://www.volunteermatch.org/search/opp33220...</td>\n",
              "    </tr>\n",
              "    <tr>\n",
              "      <th>7784</th>\n",
              "      <td>https://www.volunteermatch.org/search/opp28490...</td>\n",
              "    </tr>\n",
              "    <tr>\n",
              "      <th>7785</th>\n",
              "      <td>https://www.volunteermatch.org/search/opp20763...</td>\n",
              "    </tr>\n",
              "    <tr>\n",
              "      <th>7786</th>\n",
              "      <td>https://www.volunteermatch.org/search/opp32607...</td>\n",
              "    </tr>\n",
              "    <tr>\n",
              "      <th>7787</th>\n",
              "      <td>https://www.volunteermatch.org/search/opp32869...</td>\n",
              "    </tr>\n",
              "    <tr>\n",
              "      <th>7788</th>\n",
              "      <td>https://www.volunteermatch.org/search/opp32481...</td>\n",
              "    </tr>\n",
              "    <tr>\n",
              "      <th>7789</th>\n",
              "      <td>https://www.volunteermatch.org/search/opp33003...</td>\n",
              "    </tr>\n",
              "    <tr>\n",
              "      <th>7790</th>\n",
              "      <td>https://www.volunteermatch.org/search/opp31903...</td>\n",
              "    </tr>\n",
              "    <tr>\n",
              "      <th>7791</th>\n",
              "      <td>https://www.volunteermatch.org/search/opp33220...</td>\n",
              "    </tr>\n",
              "    <tr>\n",
              "      <th>7792</th>\n",
              "      <td>https://www.volunteermatch.org/search/opp27470...</td>\n",
              "    </tr>\n",
              "    <tr>\n",
              "      <th>7793</th>\n",
              "      <td>https://www.volunteermatch.org/search/opp22991...</td>\n",
              "    </tr>\n",
              "    <tr>\n",
              "      <th>7794</th>\n",
              "      <td>https://www.volunteermatch.org/search/opp80864...</td>\n",
              "    </tr>\n",
              "    <tr>\n",
              "      <th>7795</th>\n",
              "      <td>https://www.volunteermatch.org/search/opp20762...</td>\n",
              "    </tr>\n",
              "    <tr>\n",
              "      <th>7796</th>\n",
              "      <td>https://www.volunteermatch.org/search/opp33313...</td>\n",
              "    </tr>\n",
              "    <tr>\n",
              "      <th>7797</th>\n",
              "      <td>https://www.volunteermatch.org/search/opp71150...</td>\n",
              "    </tr>\n",
              "    <tr>\n",
              "      <th>7798</th>\n",
              "      <td>https://www.volunteermatch.org/search/opp28180...</td>\n",
              "    </tr>\n",
              "    <tr>\n",
              "      <th>7799</th>\n",
              "      <td>https://www.volunteermatch.org/search/opp21232...</td>\n",
              "    </tr>\n",
              "    <tr>\n",
              "      <th>7800</th>\n",
              "      <td>https://www.volunteermatch.org/search/opp17044...</td>\n",
              "    </tr>\n",
              "    <tr>\n",
              "      <th>7801</th>\n",
              "      <td>https://www.volunteermatch.org/search/opp30946...</td>\n",
              "    </tr>\n",
              "    <tr>\n",
              "      <th>7802</th>\n",
              "      <td>https://www.volunteermatch.org/search/opp33119...</td>\n",
              "    </tr>\n",
              "    <tr>\n",
              "      <th>7803</th>\n",
              "      <td>https://www.volunteermatch.org/search/opp33242...</td>\n",
              "    </tr>\n",
              "    <tr>\n",
              "      <th>7804</th>\n",
              "      <td>https://www.volunteermatch.org/search/opp32969...</td>\n",
              "    </tr>\n",
              "    <tr>\n",
              "      <th>7805</th>\n",
              "      <td>https://www.volunteermatch.org/search/opp32621...</td>\n",
              "    </tr>\n",
              "    <tr>\n",
              "      <th>7806</th>\n",
              "      <td>https://www.volunteermatch.org/search/opp17106...</td>\n",
              "    </tr>\n",
              "    <tr>\n",
              "      <th>7807</th>\n",
              "      <td>https://www.volunteermatch.org/search/opp22802...</td>\n",
              "    </tr>\n",
              "    <tr>\n",
              "      <th>7808</th>\n",
              "      <td>https://www.volunteermatch.org/search/opp27834...</td>\n",
              "    </tr>\n",
              "    <tr>\n",
              "      <th>7809</th>\n",
              "      <td>https://www.volunteermatch.org/search/opp29007...</td>\n",
              "    </tr>\n",
              "    <tr>\n",
              "      <th>7810</th>\n",
              "      <td>https://www.volunteermatch.org/search/opp13347...</td>\n",
              "    </tr>\n",
              "    <tr>\n",
              "      <th>7811</th>\n",
              "      <td>https://www.volunteermatch.org/search/opp15728...</td>\n",
              "    </tr>\n",
              "  </tbody>\n",
              "</table>\n",
              "<p>7812 rows × 1 columns</p>\n",
              "</div>"
            ],
            "text/plain": [
              "                                                   Link\n",
              "0     https://www.volunteermatch.org/search/opp30930...\n",
              "1     https://www.volunteermatch.org/search/opp32750...\n",
              "2     https://www.volunteermatch.org/search/opp30872...\n",
              "3     https://www.volunteermatch.org/search/opp22828...\n",
              "4     https://www.volunteermatch.org/search/opp25712...\n",
              "5     https://www.volunteermatch.org/search/opp80588...\n",
              "6     https://www.volunteermatch.org/search/opp15646...\n",
              "7     https://www.volunteermatch.org/search/opp32619...\n",
              "8     https://www.volunteermatch.org/search/opp18994...\n",
              "9     https://www.volunteermatch.org/search/opp28289...\n",
              "10    https://www.volunteermatch.org/search/opp32606...\n",
              "11    https://www.volunteermatch.org/search/opp32611...\n",
              "12    https://www.volunteermatch.org/search/opp15728...\n",
              "13    https://www.volunteermatch.org/search/opp32599...\n",
              "14    https://www.volunteermatch.org/search/opp32978...\n",
              "15    https://www.volunteermatch.org/search/opp25540...\n",
              "16    https://www.volunteermatch.org/search/opp32613...\n",
              "17    https://www.volunteermatch.org/search/opp32798...\n",
              "18    https://www.volunteermatch.org/search/opp23460...\n",
              "19    https://www.volunteermatch.org/search/opp32855...\n",
              "20    https://www.volunteermatch.org/search/opp32639...\n",
              "21    https://www.volunteermatch.org/search/opp33119...\n",
              "22    https://www.volunteermatch.org/search/opp32614...\n",
              "23    https://www.volunteermatch.org/search/opp23198...\n",
              "24    https://www.volunteermatch.org/search/opp33293...\n",
              "25    https://www.volunteermatch.org/search/opp32665...\n",
              "26    https://www.volunteermatch.org/search/opp32798...\n",
              "27    https://www.volunteermatch.org/search/opp32725...\n",
              "28    https://www.volunteermatch.org/search/opp32607...\n",
              "29    https://www.volunteermatch.org/search/opp23310...\n",
              "...                                                 ...\n",
              "7782  https://www.volunteermatch.org/search/opp33245...\n",
              "7783  https://www.volunteermatch.org/search/opp33220...\n",
              "7784  https://www.volunteermatch.org/search/opp28490...\n",
              "7785  https://www.volunteermatch.org/search/opp20763...\n",
              "7786  https://www.volunteermatch.org/search/opp32607...\n",
              "7787  https://www.volunteermatch.org/search/opp32869...\n",
              "7788  https://www.volunteermatch.org/search/opp32481...\n",
              "7789  https://www.volunteermatch.org/search/opp33003...\n",
              "7790  https://www.volunteermatch.org/search/opp31903...\n",
              "7791  https://www.volunteermatch.org/search/opp33220...\n",
              "7792  https://www.volunteermatch.org/search/opp27470...\n",
              "7793  https://www.volunteermatch.org/search/opp22991...\n",
              "7794  https://www.volunteermatch.org/search/opp80864...\n",
              "7795  https://www.volunteermatch.org/search/opp20762...\n",
              "7796  https://www.volunteermatch.org/search/opp33313...\n",
              "7797  https://www.volunteermatch.org/search/opp71150...\n",
              "7798  https://www.volunteermatch.org/search/opp28180...\n",
              "7799  https://www.volunteermatch.org/search/opp21232...\n",
              "7800  https://www.volunteermatch.org/search/opp17044...\n",
              "7801  https://www.volunteermatch.org/search/opp30946...\n",
              "7802  https://www.volunteermatch.org/search/opp33119...\n",
              "7803  https://www.volunteermatch.org/search/opp33242...\n",
              "7804  https://www.volunteermatch.org/search/opp32969...\n",
              "7805  https://www.volunteermatch.org/search/opp32621...\n",
              "7806  https://www.volunteermatch.org/search/opp17106...\n",
              "7807  https://www.volunteermatch.org/search/opp22802...\n",
              "7808  https://www.volunteermatch.org/search/opp27834...\n",
              "7809  https://www.volunteermatch.org/search/opp29007...\n",
              "7810  https://www.volunteermatch.org/search/opp13347...\n",
              "7811  https://www.volunteermatch.org/search/opp15728...\n",
              "\n",
              "[7812 rows x 1 columns]"
            ]
          },
          "execution_count": 66,
          "metadata": {},
          "output_type": "execute_result"
        }
      ],
      "source": [
        "# save links to csv file\n",
        "df = pd.DataFrame({'Link':full_url_list})\n",
        "df.to_csv('volunteermatch_NY.csv', index=False, encoding='utf-8_sig')\n",
        "df"
      ]
    },
    {
      "cell_type": "markdown",
      "metadata": {
        "id": "aKSlXLCcgse5"
      },
      "source": [
        "Step 3:"
      ]
    },
    {
      "cell_type": "markdown",
      "metadata": {
        "id": "oNezQKxYgse6"
      },
      "source": [
        "Go to the next page and grab all links from shown volunteer jobs"
      ]
    },
    {
      "cell_type": "code",
      "execution_count": null,
      "metadata": {
        "id": "VMuBRqu2gse7"
      },
      "outputs": [],
      "source": [
        "driver.find_element_by_xpath('//*[ contains(text(), \"Next\")]').click()\n",
        "link = driver.current_url\n",
        "url_list = get_url(link)\n",
        "full_url_list.extend(url_list)"
      ]
    },
    {
      "cell_type": "markdown",
      "metadata": {
        "id": "9R0sM8mSgse-"
      },
      "source": [
        "Run Step 2 again to grab hidden links and save to csv file\n",
        "<br> Repeat step 2 and step 3\n",
        "<br> (In order to track bugs easier I didn't use for loop to do the above steps)"
      ]
    },
    {
      "cell_type": "code",
      "execution_count": null,
      "metadata": {
        "id": "qkdzYK3fgse_"
      },
      "outputs": [],
      "source": [
        ""
      ]
    },
    {
      "cell_type": "markdown",
      "metadata": {
        "id": "pnjQANLNgse_"
      },
      "source": [
        "## Part 2: Get info"
      ]
    },
    {
      "cell_type": "markdown",
      "metadata": {
        "id": "sQHcT53Ggse_"
      },
      "source": [
        "Get volunteer job information, including job title, job description, job categories"
      ]
    },
    {
      "cell_type": "code",
      "execution_count": null,
      "metadata": {
        "id": "GtWa6dgBgsfA"
      },
      "outputs": [],
      "source": [
        "import pandas as pd"
      ]
    },
    {
      "cell_type": "code",
      "execution_count": null,
      "metadata": {
        "id": "vxzNS72JgsfA"
      },
      "outputs": [],
      "source": [
        "df = pd.read_csv('volunteermatch_NY.csv', encoding='utf-8')\n",
        "full_url_list = df['Link'].tolist()"
      ]
    },
    {
      "cell_type": "code",
      "execution_count": null,
      "metadata": {
        "id": "V233HBLugsfB",
        "outputId": "2b801948-e925-4949-d048-164ae51d7c76"
      },
      "outputs": [
        {
          "data": {
            "text/plain": [
              "7812"
            ]
          },
          "execution_count": 5,
          "metadata": {},
          "output_type": "execute_result"
        }
      ],
      "source": [
        "len(full_url_list)"
      ]
    },
    {
      "cell_type": "code",
      "execution_count": null,
      "metadata": {
        "id": "mP77QSCHgsfB"
      },
      "outputs": [],
      "source": [
        "title=[]\n",
        "description=[]\n",
        "categories = []"
      ]
    },
    {
      "cell_type": "code",
      "execution_count": null,
      "metadata": {
        "id": "V9hiPtNygsfC"
      },
      "outputs": [],
      "source": [
        "for i in range(19,21): \n",
        "    driver.get(full_url_list[i])\n",
        "    # Get Job title\n",
        "    x = driver.find_elements_by_xpath('//*[contains(@class, \"opp-dtl__title--main\")]') \n",
        "    for a in x:\n",
        "        title.append(a.text)\n",
        "    # Get job description\n",
        "    x = driver.find_elements_by_xpath('//*[@id=\"tertiary-content\"]')\n",
        "    for a in x:\n",
        "        content = a.text\n",
        "        idx = content.index('Description')\n",
        "        description.append(content[idx+len('Description'):])\n",
        "    # Get categories\n",
        "    x = driver.find_elements_by_xpath('//*[contains(@class,\"logistics__causes\")]')\n",
        "    cat=[]\n",
        "    for a in x:\n",
        "        ele = a.find_elements_by_css_selector('svg')\n",
        "        for m in ele:\n",
        "            cat.append(m.get_attribute('title'))\n",
        "    categories.append(cat)"
      ]
    },
    {
      "cell_type": "code",
      "execution_count": null,
      "metadata": {
        "id": "iGsVAhmRgsfD"
      },
      "outputs": [],
      "source": [
        "# print(len(title))\n",
        "# print(len(description))\n",
        "# print(len(categories))"
      ]
    },
    {
      "cell_type": "code",
      "execution_count": null,
      "metadata": {
        "scrolled": true,
        "id": "kUWHuFExgsfE"
      },
      "outputs": [],
      "source": [
        "# save to csv file\n",
        "df = pd.DataFrame({'Link':full_url_list, 'Title':title, \n",
        "                   'Description':description, 'Categories':categories})\n",
        "df.to_csv('volunteermatch_NY.csv', index=False, encoding='utf-8_sig')\n",
        "df"
      ]
    },
    {
      "cell_type": "code",
      "execution_count": null,
      "metadata": {
        "id": "1mYcK-5IgsfE"
      },
      "outputs": [],
      "source": [
        ""
      ]
    }
  ],
  "metadata": {
    "kernelspec": {
      "display_name": "Python 3",
      "language": "python",
      "name": "python3"
    },
    "language_info": {
      "codemirror_mode": {
        "name": "ipython",
        "version": 3
      },
      "file_extension": ".py",
      "mimetype": "text/x-python",
      "name": "python",
      "nbconvert_exporter": "python",
      "pygments_lexer": "ipython3",
      "version": "3.7.1"
    },
    "colab": {
      "name": "VolunterrMatch_WebScraping.ipynb",
      "provenance": []
    }
  },
  "nbformat": 4,
  "nbformat_minor": 0
}