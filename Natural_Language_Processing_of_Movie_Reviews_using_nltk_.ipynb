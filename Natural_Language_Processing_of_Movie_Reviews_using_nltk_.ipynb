{
  "cells": [
    {
      "cell_type": "markdown",
      "metadata": {
        "id": "_ecz8XWsA0Z5"
      },
      "source": [
        "# Natural Language Processing with `nltk`\n",
        "\n",
        "`nltk` is the most popular Python package for Natural Language processing, it provides algorithms for importing, cleaning, pre-processing text data in human language and then apply computational linguistics algorithms like sentiment analysis."
      ]
    },
    {
      "cell_type": "markdown",
      "metadata": {
        "id": "INNXd3eAA0aF"
      },
      "source": [
        "## Inspect the Movie Reviews Dataset"
      ]
    },
    {
      "cell_type": "markdown",
      "metadata": {
        "id": "jYziEUTlA0aH"
      },
      "source": [
        "It also includes many easy-to-use datasets in the `nltk.corpus` package, we can download for example the `movie_reviews` package using the `nltk.download` function:"
      ]
    },
    {
      "cell_type": "code",
      "execution_count": 1,
      "metadata": {
        "collapsed": true,
        "id": "kwxoF8hQA0aI"
      },
      "outputs": [],
      "source": [
        "import nltk"
      ]
    },
    {
      "cell_type": "code",
      "execution_count": 2,
      "metadata": {
        "id": "VZMWsUFnA0aL",
        "colab": {
          "base_uri": "https://localhost:8080/"
        },
        "outputId": "f1937461-fb0a-4077-883f-e41ef21264a8"
      },
      "outputs": [
        {
          "output_type": "stream",
          "name": "stdout",
          "text": [
            "[nltk_data] Downloading package movie_reviews to /root/nltk_data...\n",
            "[nltk_data]   Unzipping corpora/movie_reviews.zip.\n"
          ]
        },
        {
          "output_type": "execute_result",
          "data": {
            "text/plain": [
              "True"
            ]
          },
          "metadata": {},
          "execution_count": 2
        }
      ],
      "source": [
        "nltk.download(\"movie_reviews\")"
      ]
    },
    {
      "cell_type": "markdown",
      "metadata": {
        "id": "cevX8hmyA0aN"
      },
      "source": [
        "You can also list and download other datasets interactively just typing:\n",
        "\n",
        "    nltk.download()\n",
        "    \n",
        "in the Jupyter Notebook."
      ]
    },
    {
      "cell_type": "markdown",
      "metadata": {
        "id": "aGySdXglA0aO"
      },
      "source": [
        "Once the data have been downloaded, we can import them from `nltk.corpus`"
      ]
    },
    {
      "cell_type": "code",
      "execution_count": 3,
      "metadata": {
        "collapsed": true,
        "id": "UtQAlxUEA0aP"
      },
      "outputs": [],
      "source": [
        "from nltk.corpus import movie_reviews"
      ]
    },
    {
      "cell_type": "markdown",
      "metadata": {
        "id": "14lRG8luA0aQ"
      },
      "source": [
        "The `fileids` method provided by all the datasets in `nltk.corpus` gives access to a list of all the files available.\n",
        "\n",
        "In particular in the movie_reviews dataset we have 2000 text files, each of them is a review of a movie, and they are already split in a `neg` folder for the negative reviews and a `pos` folder for the positive reviews:"
      ]
    },
    {
      "cell_type": "code",
      "execution_count": 4,
      "metadata": {
        "id": "7AoeI9uBA0aR",
        "colab": {
          "base_uri": "https://localhost:8080/"
        },
        "outputId": "63628eb6-e8bc-498b-fbb2-0fb2899093cf"
      },
      "outputs": [
        {
          "output_type": "execute_result",
          "data": {
            "text/plain": [
              "2000"
            ]
          },
          "metadata": {},
          "execution_count": 4
        }
      ],
      "source": [
        "len(movie_reviews.fileids())"
      ]
    },
    {
      "cell_type": "code",
      "execution_count": 5,
      "metadata": {
        "id": "b3wstfXIA0aS",
        "colab": {
          "base_uri": "https://localhost:8080/"
        },
        "outputId": "7531a758-572e-4d4e-83f2-80f52ccce701"
      },
      "outputs": [
        {
          "output_type": "execute_result",
          "data": {
            "text/plain": [
              "['neg/cv000_29416.txt',\n",
              " 'neg/cv001_19502.txt',\n",
              " 'neg/cv002_17424.txt',\n",
              " 'neg/cv003_12683.txt',\n",
              " 'neg/cv004_12641.txt']"
            ]
          },
          "metadata": {},
          "execution_count": 5
        }
      ],
      "source": [
        "movie_reviews.fileids()[:5]"
      ]
    },
    {
      "cell_type": "code",
      "execution_count": 6,
      "metadata": {
        "id": "jMCuUHx_A0aT",
        "colab": {
          "base_uri": "https://localhost:8080/"
        },
        "outputId": "c14259be-c63a-4ab1-b3db-0112ecf37188"
      },
      "outputs": [
        {
          "output_type": "execute_result",
          "data": {
            "text/plain": [
              "['pos/cv995_21821.txt',\n",
              " 'pos/cv996_11592.txt',\n",
              " 'pos/cv997_5046.txt',\n",
              " 'pos/cv998_14111.txt',\n",
              " 'pos/cv999_13106.txt']"
            ]
          },
          "metadata": {},
          "execution_count": 6
        }
      ],
      "source": [
        "movie_reviews.fileids()[-5:]"
      ]
    },
    {
      "cell_type": "markdown",
      "metadata": {
        "id": "nQ3CxwYrA0aU"
      },
      "source": [
        "`fileids` can also filter the available files based on their category, which is the name of the subfolders they are located in. Therefore we can have lists of positive and negative reviews separately."
      ]
    },
    {
      "cell_type": "code",
      "execution_count": 7,
      "metadata": {
        "collapsed": true,
        "id": "2wPcJs-VA0aV"
      },
      "outputs": [],
      "source": [
        "negative_fileids = movie_reviews.fileids('neg')\n",
        "positive_fileids = movie_reviews.fileids('pos')"
      ]
    },
    {
      "cell_type": "code",
      "execution_count": 8,
      "metadata": {
        "id": "1Y1bkLLjA0aW",
        "colab": {
          "base_uri": "https://localhost:8080/"
        },
        "outputId": "b52d794e-665e-4bc1-e567-babe95c24b2f"
      },
      "outputs": [
        {
          "output_type": "execute_result",
          "data": {
            "text/plain": [
              "(1000, 1000)"
            ]
          },
          "metadata": {},
          "execution_count": 8
        }
      ],
      "source": [
        "len(negative_fileids), len(positive_fileids)"
      ]
    },
    {
      "cell_type": "markdown",
      "metadata": {
        "id": "HxgnEXS3A0aZ"
      },
      "source": [
        "We can inspect one of the reviews using the `raw` method of `movie_reviews`, each file is split into sentences, the curators of this dataset also removed from each review from any direct mention of the rating of the movie."
      ]
    },
    {
      "cell_type": "code",
      "execution_count": 9,
      "metadata": {
        "id": "pop-WmheA0aa",
        "colab": {
          "base_uri": "https://localhost:8080/"
        },
        "outputId": "43afabd9-d9c5-4267-992c-cf4b62949338"
      },
      "outputs": [
        {
          "output_type": "stream",
          "name": "stdout",
          "text": [
            "films adapted from comic books have had plenty of success , whether they're about superheroes ( batman , superman , spawn ) , or geared toward kids ( casper ) or the arthouse crowd ( ghost world ) , but there's never really been a comic book like from hell before . \n",
            "for starters , it was created by alan moore ( and eddie campbell ) , who brought the medium to a whole new level in the mid '80s with a 12-part series called the watchmen . \n",
            "to say moore and campbell thoroughly researched the subject of jack the ripper would be like saying michael jackson is starting to look a little odd . \n",
            "the book ( or \" graphic novel , \" if you will ) is over 500 pages long and includes nearly 30 more that consist of nothing but footnotes . \n",
            "in other words , don't dismiss this film because of its source . \n",
            "if you can get past the whole comic book thing , you might find another stumbling block in from hell's directors , albert and allen hughes . \n",
            "getting the hughes brothers to direct this seems almost as ludicrous as casting carrot top in , well , anything , but riddle me this : who better to direct a film that's set in the ghetto and features really violent street crime than the mad geniuses behind menace ii society ? \n",
            "the ghetto in question is , of course , whitechapel in 1888 london's east end . \n",
            "it's a filthy , sooty place where the whores ( called \" unfortunates \" ) are starting to get a little nervous about this mysterious psychopath who has been carving through their profession with surgical precision . \n",
            "when the first stiff turns up , copper peter godley ( robbie coltrane , the world is not enough ) calls in inspector frederick abberline ( johnny depp , blow ) to crack the case . \n",
            "abberline , a widower , has prophetic dreams he unsuccessfully tries to quell with copious amounts of absinthe and opium . \n",
            "upon arriving in whitechapel , he befriends an unfortunate named mary kelly ( heather graham , say it isn't so ) and proceeds to investigate the horribly gruesome crimes that even the police surgeon can't stomach . \n",
            "i don't think anyone needs to be briefed on jack the ripper , so i won't go into the particulars here , other than to say moore and campbell have a unique and interesting theory about both the identity of the killer and the reasons he chooses to slay . \n",
            "in the comic , they don't bother cloaking the identity of the ripper , but screenwriters terry hayes ( vertical limit ) and rafael yglesias ( les mis ? rables ) do a good job of keeping him hidden from viewers until the very end . \n",
            "it's funny to watch the locals blindly point the finger of blame at jews and indians because , after all , an englishman could never be capable of committing such ghastly acts . \n",
            "and from hell's ending had me whistling the stonecutters song from the simpsons for days ( \" who holds back the electric car/who made steve guttenberg a star ? \" ) . \n",
            "don't worry - it'll all make sense when you see it . \n",
            "now onto from hell's appearance : it's certainly dark and bleak enough , and it's surprising to see how much more it looks like a tim burton film than planet of the apes did ( at times , it seems like sleepy hollow 2 ) . \n",
            "the print i saw wasn't completely finished ( both color and music had not been finalized , so no comments about marilyn manson ) , but cinematographer peter deming ( don't say a word ) ably captures the dreariness of victorian-era london and helped make the flashy killing scenes remind me of the crazy flashbacks in twin peaks , even though the violence in the film pales in comparison to that in the black-and-white comic . \n",
            "oscar winner martin childs' ( shakespeare in love ) production design turns the original prague surroundings into one creepy place . \n",
            "even the acting in from hell is solid , with the dreamy depp turning in a typically strong performance and deftly handling a british accent . \n",
            "ians holm ( joe gould's secret ) and richardson ( 102 dalmatians ) log in great supporting roles , but the big surprise here is graham . \n",
            "i cringed the first time she opened her mouth , imagining her attempt at an irish accent , but it actually wasn't half bad . \n",
            "the film , however , is all good . \n",
            "2 : 00 - r for strong violence/gore , sexuality , language and drug content \n",
            "\n"
          ]
        }
      ],
      "source": [
        "print(movie_reviews.raw(fileids=positive_fileids[0]))"
      ]
    },
    {
      "cell_type": "markdown",
      "metadata": {
        "id": "YEnit12cA0ad"
      },
      "source": [
        "## Tokenize Text in Words"
      ]
    },
    {
      "cell_type": "code",
      "execution_count": 10,
      "metadata": {
        "collapsed": true,
        "id": "mki32JyYA0af"
      },
      "outputs": [],
      "source": [
        "romeo_text = \"\"\"Why then, O brawling love! O loving hate!\n",
        "O any thing, of nothing first create!\n",
        "O heavy lightness, serious vanity,\n",
        "Misshapen chaos of well-seeming forms,\n",
        "Feather of lead, bright smoke, cold fire, sick health,\n",
        "Still-waking sleep, that is not what it is!\n",
        "This love feel I, that feel no love in this.\"\"\""
      ]
    },
    {
      "cell_type": "markdown",
      "metadata": {
        "id": "LrbJRIJvA0ah"
      },
      "source": [
        "The first step in Natural Language processing is generally to split the text into words, this process might appear simple but it is very tedious to handle all corner cases, see for example all the issues with punctuation we have to solve if we just start with a split on whitespace:"
      ]
    },
    {
      "cell_type": "code",
      "execution_count": 11,
      "metadata": {
        "id": "eStb4uTiA0ai",
        "colab": {
          "base_uri": "https://localhost:8080/"
        },
        "outputId": "1629c6cf-5b55-4713-c2b9-c1a75a7baddc"
      },
      "outputs": [
        {
          "output_type": "execute_result",
          "data": {
            "text/plain": [
              "['Why',\n",
              " 'then,',\n",
              " 'O',\n",
              " 'brawling',\n",
              " 'love!',\n",
              " 'O',\n",
              " 'loving',\n",
              " 'hate!',\n",
              " 'O',\n",
              " 'any',\n",
              " 'thing,',\n",
              " 'of',\n",
              " 'nothing',\n",
              " 'first',\n",
              " 'create!',\n",
              " 'O',\n",
              " 'heavy',\n",
              " 'lightness,',\n",
              " 'serious',\n",
              " 'vanity,',\n",
              " 'Misshapen',\n",
              " 'chaos',\n",
              " 'of',\n",
              " 'well-seeming',\n",
              " 'forms,',\n",
              " 'Feather',\n",
              " 'of',\n",
              " 'lead,',\n",
              " 'bright',\n",
              " 'smoke,',\n",
              " 'cold',\n",
              " 'fire,',\n",
              " 'sick',\n",
              " 'health,',\n",
              " 'Still-waking',\n",
              " 'sleep,',\n",
              " 'that',\n",
              " 'is',\n",
              " 'not',\n",
              " 'what',\n",
              " 'it',\n",
              " 'is!',\n",
              " 'This',\n",
              " 'love',\n",
              " 'feel',\n",
              " 'I,',\n",
              " 'that',\n",
              " 'feel',\n",
              " 'no',\n",
              " 'love',\n",
              " 'in',\n",
              " 'this.']"
            ]
          },
          "metadata": {},
          "execution_count": 11
        }
      ],
      "source": [
        "romeo_text.split()"
      ]
    },
    {
      "cell_type": "markdown",
      "metadata": {
        "id": "Fix-6b9FA0aj"
      },
      "source": [
        "`nltk` has a sophisticated word tokenizer trained on English named \n",
        "\n",
        "*   List item\n",
        "\n",
        "*   List item\n",
        "*   List item\n",
        "\n",
        "\n",
        "*   List item\n",
        "\n",
        "`punkt`, we first have to download its parameters: "
      ]
    },
    {
      "cell_type": "code",
      "execution_count": 12,
      "metadata": {
        "id": "yXCN0KG7A0ak",
        "colab": {
          "base_uri": "https://localhost:8080/"
        },
        "outputId": "250205d0-fbf0-4d58-877a-918a15797662"
      },
      "outputs": [
        {
          "output_type": "stream",
          "name": "stdout",
          "text": [
            "[nltk_data] Downloading package punkt to /root/nltk_data...\n",
            "[nltk_data]   Unzipping tokenizers/punkt.zip.\n"
          ]
        },
        {
          "output_type": "execute_result",
          "data": {
            "text/plain": [
              "True"
            ]
          },
          "metadata": {},
          "execution_count": 12
        }
      ],
      "source": [
        "nltk.download(\"punkt\")"
      ]
    },
    {
      "cell_type": "markdown",
      "metadata": {
        "id": "gdUwSWtAA0am"
      },
      "source": [
        "Then we can use the `word_tokenize` function to properly tokenize this text, compare to the whitespace splitting we used above:"
      ]
    },
    {
      "cell_type": "code",
      "execution_count": 13,
      "metadata": {
        "collapsed": true,
        "id": "5yjb51vvA0ap"
      },
      "outputs": [],
      "source": [
        "romeo_words = nltk.word_tokenize(romeo_text)"
      ]
    },
    {
      "cell_type": "code",
      "execution_count": 14,
      "metadata": {
        "id": "UeP8IjHsA0aq",
        "colab": {
          "base_uri": "https://localhost:8080/"
        },
        "outputId": "fc01910c-7b2d-4b6c-f892-adbbb996a30a"
      },
      "outputs": [
        {
          "output_type": "execute_result",
          "data": {
            "text/plain": [
              "['Why',\n",
              " 'then',\n",
              " ',',\n",
              " 'O',\n",
              " 'brawling',\n",
              " 'love',\n",
              " '!',\n",
              " 'O',\n",
              " 'loving',\n",
              " 'hate',\n",
              " '!',\n",
              " 'O',\n",
              " 'any',\n",
              " 'thing',\n",
              " ',',\n",
              " 'of',\n",
              " 'nothing',\n",
              " 'first',\n",
              " 'create',\n",
              " '!',\n",
              " 'O',\n",
              " 'heavy',\n",
              " 'lightness',\n",
              " ',',\n",
              " 'serious',\n",
              " 'vanity',\n",
              " ',',\n",
              " 'Misshapen',\n",
              " 'chaos',\n",
              " 'of',\n",
              " 'well-seeming',\n",
              " 'forms',\n",
              " ',',\n",
              " 'Feather',\n",
              " 'of',\n",
              " 'lead',\n",
              " ',',\n",
              " 'bright',\n",
              " 'smoke',\n",
              " ',',\n",
              " 'cold',\n",
              " 'fire',\n",
              " ',',\n",
              " 'sick',\n",
              " 'health',\n",
              " ',',\n",
              " 'Still-waking',\n",
              " 'sleep',\n",
              " ',',\n",
              " 'that',\n",
              " 'is',\n",
              " 'not',\n",
              " 'what',\n",
              " 'it',\n",
              " 'is',\n",
              " '!',\n",
              " 'This',\n",
              " 'love',\n",
              " 'feel',\n",
              " 'I',\n",
              " ',',\n",
              " 'that',\n",
              " 'feel',\n",
              " 'no',\n",
              " 'love',\n",
              " 'in',\n",
              " 'this',\n",
              " '.']"
            ]
          },
          "metadata": {},
          "execution_count": 14
        }
      ],
      "source": [
        "romeo_words"
      ]
    },
    {
      "cell_type": "markdown",
      "metadata": {
        "id": "6hLk072iA0ar"
      },
      "source": [
        "Good news is that the `movie_reviews` corpus already has direct access to tokenized text with the `words` method:"
      ]
    },
    {
      "cell_type": "code",
      "execution_count": 15,
      "metadata": {
        "id": "qLCVhLVFA0as",
        "colab": {
          "base_uri": "https://localhost:8080/"
        },
        "outputId": "5185e51e-32d1-4a28-f7db-12aad9e479a2"
      },
      "outputs": [
        {
          "output_type": "execute_result",
          "data": {
            "text/plain": [
              "['films', 'adapted', 'from', 'comic', 'books', 'have', ...]"
            ]
          },
          "metadata": {},
          "execution_count": 15
        }
      ],
      "source": [
        "movie_reviews.words(fileids=positive_fileids[0])"
      ]
    },
    {
      "cell_type": "markdown",
      "metadata": {
        "id": "2fceMuHWA0at"
      },
      "source": [
        "## Build a bag-of-words model\n",
        "\n",
        "The simplest model for analyzing text is just to think about text as an unordered collection of words (bag-of-words). This can generally allow to infer from the text the category, the topic or the sentiment.\n",
        "\n",
        "From the bag-of-words model we can build features to be used by a classifier, here we assume that each word is a feature that can either be `True` or `False`.\n",
        "We implement this in Python as a dictionary where for each word in a sentence we associate `True`, if a word is missing, that would be the same as assigning `False`."
      ]
    },
    {
      "cell_type": "code",
      "execution_count": 16,
      "metadata": {
        "id": "S-C7QZspA0au",
        "colab": {
          "base_uri": "https://localhost:8080/"
        },
        "outputId": "99e8c831-cc3a-42c6-fa72-045806c4f681"
      },
      "outputs": [
        {
          "output_type": "execute_result",
          "data": {
            "text/plain": [
              "{'!': True,\n",
              " ',': True,\n",
              " '.': True,\n",
              " 'Feather': True,\n",
              " 'I': True,\n",
              " 'Misshapen': True,\n",
              " 'O': True,\n",
              " 'Still-waking': True,\n",
              " 'This': True,\n",
              " 'Why': True,\n",
              " 'any': True,\n",
              " 'brawling': True,\n",
              " 'bright': True,\n",
              " 'chaos': True,\n",
              " 'cold': True,\n",
              " 'create': True,\n",
              " 'feel': True,\n",
              " 'fire': True,\n",
              " 'first': True,\n",
              " 'forms': True,\n",
              " 'hate': True,\n",
              " 'health': True,\n",
              " 'heavy': True,\n",
              " 'in': True,\n",
              " 'is': True,\n",
              " 'it': True,\n",
              " 'lead': True,\n",
              " 'lightness': True,\n",
              " 'love': True,\n",
              " 'loving': True,\n",
              " 'no': True,\n",
              " 'not': True,\n",
              " 'nothing': True,\n",
              " 'of': True,\n",
              " 'serious': True,\n",
              " 'sick': True,\n",
              " 'sleep': True,\n",
              " 'smoke': True,\n",
              " 'that': True,\n",
              " 'then': True,\n",
              " 'thing': True,\n",
              " 'this': True,\n",
              " 'vanity': True,\n",
              " 'well-seeming': True,\n",
              " 'what': True}"
            ]
          },
          "metadata": {},
          "execution_count": 16
        }
      ],
      "source": [
        "{word:True for word in romeo_words}"
      ]
    },
    {
      "cell_type": "code",
      "execution_count": 17,
      "metadata": {
        "id": "eopybvM8A0aw",
        "colab": {
          "base_uri": "https://localhost:8080/"
        },
        "outputId": "b3917f25-6e45-43b5-bbe7-ce4d1a271162"
      },
      "outputs": [
        {
          "output_type": "execute_result",
          "data": {
            "text/plain": [
              "dict"
            ]
          },
          "metadata": {},
          "execution_count": 17
        }
      ],
      "source": [
        "type(_)"
      ]
    },
    {
      "cell_type": "code",
      "execution_count": 18,
      "metadata": {
        "collapsed": true,
        "id": "yvA0FoevA0ay"
      },
      "outputs": [],
      "source": [
        "def build_bag_of_words_features(words):\n",
        "    return {word:True for word in words}"
      ]
    },
    {
      "cell_type": "code",
      "execution_count": 19,
      "metadata": {
        "id": "c3DHsoRWA0a3",
        "colab": {
          "base_uri": "https://localhost:8080/"
        },
        "outputId": "779d010f-b470-4e92-bd5d-31e56fb0f192"
      },
      "outputs": [
        {
          "output_type": "execute_result",
          "data": {
            "text/plain": [
              "{'!': True,\n",
              " ',': True,\n",
              " '.': True,\n",
              " 'Feather': True,\n",
              " 'I': True,\n",
              " 'Misshapen': True,\n",
              " 'O': True,\n",
              " 'Still-waking': True,\n",
              " 'This': True,\n",
              " 'Why': True,\n",
              " 'any': True,\n",
              " 'brawling': True,\n",
              " 'bright': True,\n",
              " 'chaos': True,\n",
              " 'cold': True,\n",
              " 'create': True,\n",
              " 'feel': True,\n",
              " 'fire': True,\n",
              " 'first': True,\n",
              " 'forms': True,\n",
              " 'hate': True,\n",
              " 'health': True,\n",
              " 'heavy': True,\n",
              " 'in': True,\n",
              " 'is': True,\n",
              " 'it': True,\n",
              " 'lead': True,\n",
              " 'lightness': True,\n",
              " 'love': True,\n",
              " 'loving': True,\n",
              " 'no': True,\n",
              " 'not': True,\n",
              " 'nothing': True,\n",
              " 'of': True,\n",
              " 'serious': True,\n",
              " 'sick': True,\n",
              " 'sleep': True,\n",
              " 'smoke': True,\n",
              " 'that': True,\n",
              " 'then': True,\n",
              " 'thing': True,\n",
              " 'this': True,\n",
              " 'vanity': True,\n",
              " 'well-seeming': True,\n",
              " 'what': True}"
            ]
          },
          "metadata": {},
          "execution_count": 19
        }
      ],
      "source": [
        "build_bag_of_words_features(romeo_words)"
      ]
    },
    {
      "cell_type": "markdown",
      "metadata": {
        "id": "aBEAVCDmA0a4"
      },
      "source": [
        "This is what we wanted, but we notice that also punctuation like \"!\" and words useless for classification purposes like \"of\" or \"that\" are also included.\n",
        "Those words are named \"stopwords\" and `nltk` has a convenient corpus we can download:"
      ]
    },
    {
      "cell_type": "code",
      "execution_count": 20,
      "metadata": {
        "id": "fWgzE0QAA0a9",
        "colab": {
          "base_uri": "https://localhost:8080/"
        },
        "outputId": "676ed246-d1ac-43e3-9903-c7f9f3010b55"
      },
      "outputs": [
        {
          "output_type": "stream",
          "name": "stdout",
          "text": [
            "[nltk_data] Downloading package stopwords to /root/nltk_data...\n",
            "[nltk_data]   Unzipping corpora/stopwords.zip.\n"
          ]
        },
        {
          "output_type": "execute_result",
          "data": {
            "text/plain": [
              "True"
            ]
          },
          "metadata": {},
          "execution_count": 20
        }
      ],
      "source": [
        "nltk.download(\"stopwords\")"
      ]
    },
    {
      "cell_type": "code",
      "execution_count": 21,
      "metadata": {
        "collapsed": true,
        "id": "jZ90kBHXA0a_"
      },
      "outputs": [],
      "source": [
        "import string"
      ]
    },
    {
      "cell_type": "code",
      "execution_count": 22,
      "metadata": {
        "id": "2TemdoPZA0bA",
        "colab": {
          "base_uri": "https://localhost:8080/",
          "height": 36
        },
        "outputId": "db89ca8b-3c40-41d4-f36d-1c17b45d163d"
      },
      "outputs": [
        {
          "output_type": "execute_result",
          "data": {
            "text/plain": [
              "'!\"#$%&\\'()*+,-./:;<=>?@[\\\\]^_`{|}~'"
            ],
            "application/vnd.google.colaboratory.intrinsic+json": {
              "type": "string"
            }
          },
          "metadata": {},
          "execution_count": 22
        }
      ],
      "source": [
        "string.punctuation"
      ]
    },
    {
      "cell_type": "markdown",
      "metadata": {
        "id": "9k6_GCqOA0bB"
      },
      "source": [
        "Using the Python `string.punctuation` list and the English stopwords we can build better features by filtering out those words that would not help in the classification:"
      ]
    },
    {
      "cell_type": "code",
      "execution_count": 23,
      "metadata": {
        "id": "2YZGweg_A0bC"
      },
      "outputs": [],
      "source": [
        "useless_words = nltk.corpus.stopwords.words(\"english\") + list(string.punctuation)\n",
        "#useless_words\n",
        "#type(useless_words)"
      ]
    },
    {
      "cell_type": "code",
      "execution_count": 24,
      "metadata": {
        "collapsed": true,
        "id": "NsIsRgmbA0bE"
      },
      "outputs": [],
      "source": [
        "def build_bag_of_words_features_filtered(words):\n",
        "    return {\n",
        "        word:1 for word in words \\\n",
        "        if not word in useless_words}"
      ]
    },
    {
      "cell_type": "code",
      "execution_count": 25,
      "metadata": {
        "id": "SiCnTy-sA0bG",
        "colab": {
          "base_uri": "https://localhost:8080/"
        },
        "outputId": "221e958c-9a71-466e-8837-3beefe418982"
      },
      "outputs": [
        {
          "output_type": "execute_result",
          "data": {
            "text/plain": [
              "{'Feather': 1,\n",
              " 'I': 1,\n",
              " 'Misshapen': 1,\n",
              " 'O': 1,\n",
              " 'Still-waking': 1,\n",
              " 'This': 1,\n",
              " 'Why': 1,\n",
              " 'brawling': 1,\n",
              " 'bright': 1,\n",
              " 'chaos': 1,\n",
              " 'cold': 1,\n",
              " 'create': 1,\n",
              " 'feel': 1,\n",
              " 'fire': 1,\n",
              " 'first': 1,\n",
              " 'forms': 1,\n",
              " 'hate': 1,\n",
              " 'health': 1,\n",
              " 'heavy': 1,\n",
              " 'lead': 1,\n",
              " 'lightness': 1,\n",
              " 'love': 1,\n",
              " 'loving': 1,\n",
              " 'nothing': 1,\n",
              " 'serious': 1,\n",
              " 'sick': 1,\n",
              " 'sleep': 1,\n",
              " 'smoke': 1,\n",
              " 'thing': 1,\n",
              " 'vanity': 1,\n",
              " 'well-seeming': 1}"
            ]
          },
          "metadata": {},
          "execution_count": 25
        }
      ],
      "source": [
        "build_bag_of_words_features_filtered(romeo_words)"
      ]
    },
    {
      "cell_type": "markdown",
      "metadata": {
        "id": "sM8Fk1L8A0bJ"
      },
      "source": [
        "## Plotting Frequencies of Words\n",
        "\n",
        "It is common to explore a dataset before starting the analysis, in this section we will find the most common words and plot their frequency.\n",
        "\n",
        "Using the `.words()` function with no argument we can extract the words from the entire dataset and check that it is about 1.6 millions."
      ]
    },
    {
      "cell_type": "code",
      "execution_count": 26,
      "metadata": {
        "id": "yDD2f245A0bN",
        "outputId": "4eb3b0d4-6757-42c8-cc65-92d8dc8a234e",
        "colab": {
          "base_uri": "https://localhost:8080/"
        }
      },
      "outputs": [
        {
          "output_type": "execute_result",
          "data": {
            "text/plain": [
              "1.58382"
            ]
          },
          "metadata": {},
          "execution_count": 26
        }
      ],
      "source": [
        "all_words = movie_reviews.words()\n",
        "len(all_words)/1e6"
      ]
    },
    {
      "cell_type": "markdown",
      "metadata": {
        "id": "ZUpnA_5uA0bO"
      },
      "source": [
        "First we want to filter out `useless_words` as defined in the previous section, this will reduce the length of the dataset by more than a factor of 2:"
      ]
    },
    {
      "cell_type": "code",
      "execution_count": 27,
      "metadata": {
        "id": "6lUbJ2XvA0bO",
        "outputId": "2b80cfe9-7561-448c-8d7b-017383290e48",
        "colab": {
          "base_uri": "https://localhost:8080/"
        }
      },
      "outputs": [
        {
          "output_type": "execute_result",
          "data": {
            "text/plain": [
              "list"
            ]
          },
          "metadata": {},
          "execution_count": 27
        }
      ],
      "source": [
        "filtered_words = [word for word in movie_reviews.words() if not word in useless_words]\n",
        "type(filtered_words)"
      ]
    },
    {
      "cell_type": "code",
      "execution_count": 28,
      "metadata": {
        "id": "YPBUUHKUA0bP",
        "colab": {
          "base_uri": "https://localhost:8080/"
        },
        "outputId": "ee8fff9d-6bef-4ba2-c75e-7fe333916221"
      },
      "outputs": [
        {
          "output_type": "execute_result",
          "data": {
            "text/plain": [
              "0.710579"
            ]
          },
          "metadata": {},
          "execution_count": 28
        }
      ],
      "source": [
        "len(filtered_words)/1e6"
      ]
    },
    {
      "cell_type": "markdown",
      "metadata": {
        "id": "7gKtLAb0A0bQ"
      },
      "source": [
        "The `collection` package of the standard library contains a `Counter` class that is handy for counting frequencies of words in our list:"
      ]
    },
    {
      "cell_type": "code",
      "execution_count": 29,
      "metadata": {
        "id": "V4cacyWaA0bR"
      },
      "outputs": [],
      "source": [
        "from collections import Counter\n",
        "\n",
        "word_counter = Counter(filtered_words)"
      ]
    },
    {
      "cell_type": "markdown",
      "metadata": {
        "id": "NL8Q29WYA0bT"
      },
      "source": [
        "It also has a `most_common()` method to access the words with the higher count:"
      ]
    },
    {
      "cell_type": "code",
      "execution_count": 30,
      "metadata": {
        "collapsed": true,
        "id": "rNJ-3zxMA0bU"
      },
      "outputs": [],
      "source": [
        "most_common_words = word_counter.most_common()[:10]"
      ]
    },
    {
      "cell_type": "code",
      "execution_count": 31,
      "metadata": {
        "id": "IPT5obRRA0bY",
        "colab": {
          "base_uri": "https://localhost:8080/"
        },
        "outputId": "c8895121-a120-4c8d-e7d7-1f7d748171d8"
      },
      "outputs": [
        {
          "output_type": "execute_result",
          "data": {
            "text/plain": [
              "[('film', 9517),\n",
              " ('one', 5852),\n",
              " ('movie', 5771),\n",
              " ('like', 3690),\n",
              " ('even', 2565),\n",
              " ('good', 2411),\n",
              " ('time', 2411),\n",
              " ('story', 2169),\n",
              " ('would', 2109),\n",
              " ('much', 2049)]"
            ]
          },
          "metadata": {},
          "execution_count": 31
        }
      ],
      "source": [
        "most_common_words"
      ]
    },
    {
      "cell_type": "markdown",
      "metadata": {
        "id": "i14_6X-HA0ba"
      },
      "source": [
        "Then we would like to have a visualization of this using `matplotlib`.\n",
        "\n",
        "First we want to use the Jupyter magic function\n",
        "\n",
        "    %matplotlib inline\n",
        "    \n",
        "to setup the Notebook to show the plot embedded into the Jupyter Notebook page, you can also test:\n",
        "\n",
        "    %matplotlib notebook\n",
        "    \n",
        "for a more interactive plotting interface which however is not as well supported on all platforms and browsers."
      ]
    },
    {
      "cell_type": "code",
      "execution_count": 32,
      "metadata": {
        "collapsed": true,
        "id": "sALbqnD6A0ba"
      },
      "outputs": [],
      "source": [
        "%matplotlib inline\n",
        "import matplotlib.pyplot as plt"
      ]
    },
    {
      "cell_type": "markdown",
      "metadata": {
        "id": "_aHDT4eTA0bc"
      },
      "source": [
        "We can sort the word counts and plot their values on Logarithmic axes to check the shape of the distribution. This visualization is particularly useful if comparing 2 or more datasets, a flatter distribution indicates a large vocabulary while a peaked distribution a restricted vocabulary often due to a focused topic or specialized language."
      ]
    },
    {
      "cell_type": "code",
      "execution_count": 33,
      "metadata": {
        "id": "9RnI_nsOA0bd",
        "colab": {
          "base_uri": "https://localhost:8080/",
          "height": 283
        },
        "outputId": "c10e2fcd-c276-424c-eb6a-3128db70880e"
      },
      "outputs": [
        {
          "output_type": "display_data",
          "data": {
            "text/plain": [
              "<Figure size 432x288 with 1 Axes>"
            ],
            "image/png": "[encoded data removed]"
          },
          "metadata": {
            "needs_background": "light"
          }
        }
      ],
      "source": [
        "sorted_word_counts = sorted(list(word_counter.values()), reverse=True)\n",
        "\n",
        "plt.loglog(sorted_word_counts)\n",
        "plt.ylabel(\"Freq\")\n",
        "plt.xlabel(\"Word Rank\");"
      ]
    },
    {
      "cell_type": "markdown",
      "metadata": {
        "id": "OA31MszXA0bd"
      },
      "source": [
        "Another related plot is the histogram of `sorted_word_counts`, which displays how many words have a count in a specific range.\n",
        "\n",
        "Of course the distribution is highly peaked at low counts, i.e. most of the words appear which a low count, so we better display it on semilogarithmic axes to inspect the tail of the distribution."
      ]
    },
    {
      "cell_type": "code",
      "execution_count": 34,
      "metadata": {
        "id": "Yi_LB2LiA0be",
        "colab": {
          "base_uri": "https://localhost:8080/",
          "height": 265
        },
        "outputId": "7c929d0e-ede1-4080-fa61-2594fc20d640"
      },
      "outputs": [
        {
          "output_type": "display_data",
          "data": {
            "text/plain": [
              "<Figure size 432x288 with 1 Axes>"
            ],
            "image/png": "[encoded data removed]"
          },
          "metadata": {
            "needs_background": "light"
          }
        }
      ],
      "source": [
        "plt.hist(sorted_word_counts, bins=50);"
      ]
    },
    {
      "cell_type": "code",
      "execution_count": 35,
      "metadata": {
        "id": "UsNQT6lvA0bf",
        "colab": {
          "base_uri": "https://localhost:8080/",
          "height": 265
        },
        "outputId": "4c7ac369-21bf-450d-e3e4-04e9b0e2c5be"
      },
      "outputs": [
        {
          "output_type": "display_data",
          "data": {
            "text/plain": [
              "<Figure size 432x288 with 1 Axes>"
            ],
            "image/png": "[encoded data removed]"
          },
          "metadata": {
            "needs_background": "light"
          }
        }
      ],
      "source": [
        "plt.hist(sorted_word_counts, bins=50, log=True);"
      ]
    },
    {
      "cell_type": "markdown",
      "metadata": {
        "id": "Qz5AyH9cA0bf"
      },
      "source": [
        "## Train a Classifier for Sentiment Analysis\n",
        "\n",
        "Using our `build_bag_of_words_features` function we can build separately the negative and positive features.\n",
        "Basically for each of the 1000 negative and for the 1000 positive review, we create one dictionary of the words and we associate the label \"neg\" and \"pos\" to it."
      ]
    },
    {
      "cell_type": "code",
      "execution_count": 36,
      "metadata": {
        "collapsed": true,
        "id": "UDhQyw0fA0bg"
      },
      "outputs": [],
      "source": [
        "negative_features = [\n",
        "    (build_bag_of_words_features_filtered(movie_reviews.words(fileids=[f])), 'neg') \\\n",
        "    for f in negative_fileids\n",
        "]"
      ]
    },
    {
      "cell_type": "code",
      "execution_count": 37,
      "metadata": {
        "id": "SL8TpSAnA0bg",
        "colab": {
          "base_uri": "https://localhost:8080/"
        },
        "outputId": "55faa5d7-3c58-4767-e904-97565a389367"
      },
      "outputs": [
        {
          "output_type": "stream",
          "name": "stdout",
          "text": [
            "({'quest': 1, 'camelot': 1, 'warner': 1, 'bros': 1, 'first': 1, 'feature': 1, 'length': 1, 'fully': 1, 'animated': 1, 'attempt': 1, 'steal': 1, 'clout': 1, 'disney': 1, 'cartoon': 1, 'empire': 1, 'mouse': 1, 'reason': 1, 'worried': 1, 'recent': 1, 'challenger': 1, 'throne': 1, 'last': 1, 'fall': 1, 'promising': 1, 'flawed': 1, '20th': 1, 'century': 1, 'fox': 1, 'production': 1, 'anastasia': 1, 'hercules': 1, 'lively': 1, 'cast': 1, 'colorful': 1, 'palate': 1, 'beat': 1, 'hands': 1, 'came': 1, 'time': 1, 'crown': 1, '1997': 1, 'best': 1, 'piece': 1, 'animation': 1, 'year': 1, 'contest': 1, 'pretty': 1, 'much': 1, 'dead': 1, 'arrival': 1, 'even': 1, 'magic': 1, 'kingdom': 1, 'mediocre': 1, '--': 1, 'pocahontas': 1, 'keeping': 1, 'score': 1, 'nearly': 1, 'dull': 1, 'story': 1, 'revolves': 1, 'around': 1, 'adventures': 1, 'free': 1, 'spirited': 1, 'kayley': 1, 'voiced': 1, 'jessalyn': 1, 'gilsig': 1, 'early': 1, 'teen': 1, 'daughter': 1, 'belated': 1, 'knight': 1, 'king': 1, 'arthur': 1, 'round': 1, 'table': 1, 'dream': 1, 'follow': 1, 'father': 1, 'footsteps': 1, 'gets': 1, 'chance': 1, 'evil': 1, 'warlord': 1, 'ruber': 1, 'gary': 1, 'oldman': 1, 'ex': 1, 'member': 1, 'gone': 1, 'bad': 1, 'steals': 1, 'magical': 1, 'sword': 1, 'excalibur': 1, 'accidentally': 1, 'loses': 1, 'dangerous': 1, 'booby': 1, 'trapped': 1, 'forest': 1, 'help': 1, 'hunky': 1, 'blind': 1, 'timberland': 1, 'dweller': 1, 'garrett': 1, 'carey': 1, 'elwes': 1, 'two': 1, 'headed': 1, 'dragon': 1, 'eric': 1, 'idle': 1, 'rickles': 1, 'always': 1, 'arguing': 1, 'might': 1, 'able': 1, 'break': 1, 'medieval': 1, 'sexist': 1, 'mold': 1, 'prove': 1, 'worth': 1, 'fighter': 1, 'side': 1, 'missing': 1, 'pure': 1, 'showmanship': 1, 'essential': 1, 'element': 1, 'ever': 1, 'expected': 1, 'climb': 1, 'high': 1, 'ranks': 1, 'nothing': 1, 'differentiates': 1, 'something': 1, 'see': 1, 'given': 1, 'saturday': 1, 'morning': 1, 'subpar': 1, 'instantly': 1, 'forgettable': 1, 'songs': 1, 'poorly': 1, 'integrated': 1, 'computerized': 1, 'footage': 1, 'compare': 1, 'run': 1, 'angry': 1, 'ogre': 1, 'herc': 1, 'battle': 1, 'hydra': 1, 'rest': 1, 'case': 1, 'characters': 1, 'stink': 1, 'none': 1, 'remotely': 1, 'interesting': 1, 'film': 1, 'becomes': 1, 'race': 1, 'one': 1, 'bland': 1, 'others': 1, 'end': 1, 'tie': 1, 'win': 1, 'comedy': 1, 'shtick': 1, 'awfully': 1, 'cloying': 1, 'least': 1, 'shows': 1, 'signs': 1, 'pulse': 1, 'fans': 1, \"-'\": 1, '90s': 1, 'tgif': 1, 'television': 1, 'line': 1, 'thrilled': 1, 'find': 1, 'jaleel': 1, 'urkel': 1, 'white': 1, 'bronson': 1, 'balki': 1, 'pinchot': 1, 'sharing': 1, 'scenes': 1, 'nicely': 1, 'realized': 1, 'though': 1, 'loss': 1, 'recall': 1, 'enough': 1, 'specific': 1, 'actors': 1, 'providing': 1, 'voice': 1, 'talent': 1, 'enthusiastic': 1, 'paired': 1, 'singers': 1, 'sound': 1, 'thing': 1, 'like': 1, 'big': 1, 'musical': 1, 'moments': 1, 'jane': 1, 'seymour': 1, 'celine': 1, 'dion': 1, 'must': 1, 'strain': 1, 'mess': 1, 'good': 1, 'aside': 1, 'fact': 1, 'children': 1, 'probably': 1, 'bored': 1, 'watching': 1, 'adults': 1, 'grievous': 1, 'error': 1, 'complete': 1, 'lack': 1, 'personality': 1, 'learn': 1, 'goes': 1, 'long': 1, 'way': 1}, 'neg')\n"
          ]
        }
      ],
      "source": [
        "print(negative_features[3])"
      ]
    },
    {
      "cell_type": "code",
      "execution_count": 38,
      "metadata": {
        "collapsed": true,
        "id": "vCafRoq1A0bh"
      },
      "outputs": [],
      "source": [
        "positive_features = [\n",
        "    (build_bag_of_words_features_filtered(movie_reviews.words(fileids=[f])), 'pos') \\\n",
        "    for f in positive_fileids\n",
        "]"
      ]
    },
    {
      "cell_type": "code",
      "execution_count": 39,
      "metadata": {
        "id": "xdqrZllCA0bh",
        "colab": {
          "base_uri": "https://localhost:8080/"
        },
        "outputId": "d186a7fb-cb0a-4c7a-8b25-e65ed1864d86"
      },
      "outputs": [
        {
          "output_type": "stream",
          "name": "stdout",
          "text": [
            "({'apparently': 1, 'director': 1, 'tony': 1, 'kaye': 1, 'major': 1, 'battle': 1, 'new': 1, 'line': 1, 'regarding': 1, 'film': 1, 'american': 1, 'history': 1, 'x': 1, 'know': 1, 'details': 1, 'fight': 1, 'seems': 1, 'happy': 1, 'final': 1, 'product': 1, 'nearly': 1, 'removed': 1, 'name': 1, 'credits': 1, 'altogether': 1, 'heard': 1, 'kind': 1, 'thing': 1, 'happening': 1, 'makes': 1, 'wonder': 1, 'much': 1, 'input': 1, 'studio': 1, 'films': 1, 'produce': 1, 'found': 1, 'extremely': 1, 'good': 1, 'focused': 1, 'look': 1, 'touchy': 1, 'subject': 1, 'racism': 1, 'powerful': 1, 'charismatic': 1, 'performance': 1, 'edward': 1, 'norton': 1, 'hard': 1, 'believe': 1, 'two': 1, 'years': 1, 'since': 1, 'fantastic': 1, 'role': 1, 'primal': 1, 'fear': 1, 'starring': 1, 'making': 1, 'star': 1, 'one': 1, 'performers': 1, 'becomes': 1, 'character': 1, 'work': 1, 'best': 1, 'performances': 1, 'year': 1, 'plays': 1, 'young': 1, 'man': 1, 'named': 1, 'derek': 1, 'vinyard': 1, 'skinhead': 1, 'living': 1, 'venice': 1, 'beach': 1, 'brother': 1, 'danny': 1, 'furlong': 1, 'mother': 1, 'beverly': 1, 'angelo': 1, 'sister': 1, 'davin': 1, 'jennifer': 1, 'lien': 1, 'opens': 1, 'flashback': 1, 'brutally': 1, 'kills': 1, 'black': 1, 'men': 1, 'vandalizing': 1, 'car': 1, 'find': 1, 'lands': 1, 'prison': 1, 'point': 1, 'seen': 1, 'eyes': 1, 'present': 1, 'time': 1, 'high': 1, 'school': 1, 'eager': 1, 'follow': 1, 'footsteps': 1, 'told': 1, 'see': 1, 'path': 1, 'leads': 1, 'adoption': 1, 'white': 1, 'supremacy': 1, 'released': 1, 'served': 1, 'three': 1, 'finds': 1, 'full': 1, 'blown': 1, 'however': 1, 'given': 1, 'violence': 1, 'tries': 1, 'get': 1, 'understand': 1, 'comes': 1, 'bad': 1, 'things': 1, 'interesting': 1, 'stupid': 1, 'thoughtless': 1, 'people': 1, '--': 1, 'intelligent': 1, 'articulate': 1, 'voice': 1, 'beliefs': 1, 'disturbingly': 1, 'straightforward': 1, 'terms': 1, 'make': 1, 'controversial': 1, 'movie': 1, 'preach': 1, 'right': 1, 'note': 1, 'material': 1, 'mainstream': 1, 'redemption': 1, 'phase': 1, 'main': 1, 'may': 1, 'think': 1, 'way': 1, 'sympathetic': 1, 'partially': 1, 'disagree': 1, 'although': 1, 'advocate': 1, 'presents': 1, 'loud': 1, 'obnoxious': 1, 'also': 1, 'smart': 1, 'reasons': 1, 'believable': 1, 'father': 1, 'arbitrarily': 1, 'killed': 1, 'group': 1, 'clear': 1, 'passionate': 1, 'punk': 1, 'looking': 1, 'excuse': 1, 'beat': 1, 'course': 1, 'helps': 1, 'actor': 1, 'talented': 1, 'play': 1, 'part': 1, 'astonishing': 1, 'frightening': 1, 'looks': 1, 'shaved': 1, 'head': 1, 'swastika': 1, 'chest': 1, 'addition': 1, 'getting': 1, 'perfect': 1, 'requires': 1, 'intelligence': 1, 'depth': 1, 'whole': 1, 'lot': 1, 'shouting': 1, 'ease': 1, 'even': 1, 'meanest': 1, 'likable': 1, 'quality': 1, 'gutsy': 1, 'approach': 1, 'telling': 1, 'story': 1, 'adds': 1, 'subplot': 1, 'principal': 1, 'avery': 1, 'brooks': 1, 'obsessed': 1, 'purging': 1, 'hatred': 1, 'terrific': 1, 'standouts': 1, 'visually': 1, 'indulges': 1, 'artistic': 1, 'choices': 1, 'nicely': 1, 'lots': 1, 'slow': 1, 'motion': 1, 'strange': 1, 'camera': 1, 'angles': 1, 'add': 1, 'moody': 1, 'atmosphere': 1, 'like': 1, 'movies': 1, 'lately': 1, 'skims': 1, 'past': 1, 'greatness': 1, 'last': 1, 'minutes': 1, 'climactic': 1, 'scene': 1, 'moving': 1, 'picture': 1, 'ends': 1, 'pretentious': 1, 'preachy': 1, 'resolution': 1, 'featuring': 1, 'brief': 1, 'narration': 1, 'subtle': 1, 'felt': 1, 'slap': 1, 'face': 1, 'hand': 1, 'fed': 1, 'theme': 1, 'simplistic': 1, 'exactly': 1, 'disliked': 1, 'version': 1, 'perhaps': 1, 'problem': 1, 'imagine': 1, 'least': 1, 'pleased': 1, 'many': 1, 'timid': 1, 'weak': 1, 'manages': 1, 'compelling': 1, 'argument': 1, 'without': 1, 'advocating': 1}, 'pos')\n"
          ]
        }
      ],
      "source": [
        "print(positive_features[6])"
      ]
    },
    {
      "cell_type": "code",
      "execution_count": 40,
      "metadata": {
        "collapsed": true,
        "id": "7_aFImLdA0bi"
      },
      "outputs": [],
      "source": [
        "from nltk.classify import NaiveBayesClassifier"
      ]
    },
    {
      "cell_type": "markdown",
      "metadata": {
        "id": "ORYLmLihA0bj"
      },
      "source": [
        "One of the simplest supervised machine learning classifiers is the Naive Bayes Classifier, it can be trained on 80% of the data to learn what words are generally associated with positive or with negative reviews."
      ]
    },
    {
      "cell_type": "code",
      "execution_count": 41,
      "metadata": {
        "collapsed": true,
        "id": "ZjCjol2jA0bj"
      },
      "outputs": [],
      "source": [
        "split = 800"
      ]
    },
    {
      "cell_type": "code",
      "execution_count": 42,
      "metadata": {
        "id": "Dj-UZdI7A0bk"
      },
      "outputs": [],
      "source": [
        "sentiment_classifier = NaiveBayesClassifier.train(positive_features[:split]+negative_features[:split])"
      ]
    },
    {
      "cell_type": "markdown",
      "metadata": {
        "id": "M_x1ypo9A0bk"
      },
      "source": [
        "We can check after training what is the accuracy on the training set, i.e. the same data used for training, we expect this to be a very high number because the algorithm already \"saw\" those data. Accuracy is the fraction of the data that is classified correctly, we can turn it into percent:"
      ]
    },
    {
      "cell_type": "code",
      "execution_count": 43,
      "metadata": {
        "id": "QdTLUlQ8A0bl",
        "colab": {
          "base_uri": "https://localhost:8080/"
        },
        "outputId": "89a4910d-91ef-4b72-8952-77652edfbdc0"
      },
      "outputs": [
        {
          "output_type": "execute_result",
          "data": {
            "text/plain": [
              "98.0625"
            ]
          },
          "metadata": {},
          "execution_count": 43
        }
      ],
      "source": [
        "nltk.classify.util.accuracy(sentiment_classifier, positive_features[:split]+negative_features[:split])*100"
      ]
    },
    {
      "cell_type": "markdown",
      "metadata": {
        "id": "FdaZuY9UA0bl"
      },
      "source": [
        "The accuracy above is mostly a check that nothing went very wrong in the training, the real measure of accuracy is on the remaining 20% of the data that wasn't used in training, the test data:"
      ]
    },
    {
      "cell_type": "code",
      "execution_count": 44,
      "metadata": {
        "id": "bWpjcyxjA0bm",
        "colab": {
          "base_uri": "https://localhost:8080/"
        },
        "outputId": "19279dfc-a741-4c12-e4f4-1d6401c2d9d3"
      },
      "outputs": [
        {
          "output_type": "execute_result",
          "data": {
            "text/plain": [
              "71.75"
            ]
          },
          "metadata": {},
          "execution_count": 44
        }
      ],
      "source": [
        "nltk.classify.util.accuracy(sentiment_classifier, positive_features[split:]+negative_features[split:])*100"
      ]
    },
    {
      "cell_type": "markdown",
      "metadata": {
        "id": "eda5AjQSA0bm"
      },
      "source": [
        "Accuracy here is around 70% which is pretty good for such a simple model if we consider that the estimated accuracy for a person is about 80%.\n",
        "We can finally print the most informative features, i.e. the words that mostly identify a positive or a negative review:"
      ]
    },
    {
      "cell_type": "code",
      "execution_count": 45,
      "metadata": {
        "id": "5A7tMIyIA0bn",
        "colab": {
          "base_uri": "https://localhost:8080/"
        },
        "outputId": "1aeeff3f-1a66-4280-d592-ab30b55565af"
      },
      "outputs": [
        {
          "output_type": "stream",
          "name": "stdout",
          "text": [
            "Most Informative Features\n",
            "             outstanding = 1                 pos : neg    =     13.9 : 1.0\n",
            "               insulting = 1                 neg : pos    =     13.7 : 1.0\n",
            "              vulnerable = 1                 pos : neg    =     13.0 : 1.0\n",
            "               ludicrous = 1                 neg : pos    =     12.6 : 1.0\n",
            "             uninvolving = 1                 neg : pos    =     12.3 : 1.0\n",
            "                  avoids = 1                 pos : neg    =     11.7 : 1.0\n",
            "              astounding = 1                 pos : neg    =     11.7 : 1.0\n",
            "             fascination = 1                 pos : neg    =     11.0 : 1.0\n",
            "                  symbol = 1                 pos : neg    =     10.3 : 1.0\n",
            "               animators = 1                 pos : neg    =     10.3 : 1.0\n"
          ]
        }
      ],
      "source": [
        "sentiment_classifier.show_most_informative_features()"
      ]
    }
  ],
  "metadata": {
    "anaconda-cloud": {},
    "kernelspec": {
      "display_name": "Python 3",
      "language": "python",
      "name": "python3"
    },
    "language_info": {
      "codemirror_mode": {
        "name": "ipython",
        "version": 3
      },
      "file_extension": ".py",
      "mimetype": "text/x-python",
      "name": "python",
      "nbconvert_exporter": "python",
      "pygments_lexer": "ipython3",
      "version": "3.6.0"
    },
    "colab": {
      "name": "Natural Language Processing of Movie Reviews using nltk .ipynb",
      "provenance": []
    }
  },
  "nbformat": 4,
  "nbformat_minor": 0
}